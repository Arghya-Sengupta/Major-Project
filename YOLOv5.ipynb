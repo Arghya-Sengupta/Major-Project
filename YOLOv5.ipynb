{
  "cells": [
    {
      "cell_type": "markdown",
      "metadata": {
        "id": "view-in-github",
        "colab_type": "text"
      },
      "source": [
        "<a href=\"https://colab.research.google.com/github/Arghya-Sengupta/Major-Project/blob/main/YOLOv5.ipynb\" target=\"_parent\"><img src=\"https://colab.research.google.com/assets/colab-badge.svg\" alt=\"Open In Colab\"/></a>"
      ]
    },
    {
      "cell_type": "code",
      "source": [
        "# # run this code to fetch data from google drive\n",
        "\n",
        "# from google.colab import drive\n",
        "# drive.mount('/content/drive')\n",
        "# !unzip -q /content/drive/MyDrive/Data/UECFOOD100.zip -d /content/\n",
        "# !cp \"/content/drive/MyDrive/Data/custom_coco.yaml\" \"/content/yolov5/data/\""
      ],
      "metadata": {
        "id": "BkgJ2Kn2tOrZ"
      },
      "execution_count": 12,
      "outputs": []
    },
    {
      "cell_type": "code",
      "source": [
        "!git clone https://github.com/ultralytics/yolov5  # clone\n",
        "%cd yolov5\n",
        "%pip install -qr requirements.txt  # install\n",
        "\n",
        "import torch\n",
        "from yolov5 import utils\n",
        "display = utils.notebook_init()  # checks"
      ],
      "metadata": {
        "id": "lJSuTAFu0SEM",
        "outputId": "875dbc15-6c69-4e8b-fc3d-fa8ee6b67e64",
        "colab": {
          "base_uri": "https://localhost:8080/"
        }
      },
      "execution_count": 2,
      "outputs": [
        {
          "output_type": "stream",
          "name": "stderr",
          "text": [
            "YOLOv5 🚀 v6.1-74-gcf4f3c3 torch 1.10.0+cu111 CPU\n"
          ]
        },
        {
          "output_type": "stream",
          "name": "stdout",
          "text": [
            "Setup complete ✅ (2 CPUs, 12.7 GB RAM, 39.6/107.7 GB disk)\n"
          ]
        }
      ]
    },
    {
      "cell_type": "code",
      "source": [
        "# #code for modifying the bounding boxes in yolo format\n",
        "\n",
        "# import os\n",
        "# from PIL import Image\n",
        "\n",
        "# # modify the directories and class file to fit\n",
        "# datapath = '/UECFOOD100'\n",
        "# labelpath = '/UECFOOD100/labels/'\n",
        "# classfilename = '/content/food100.names'\n",
        "\n",
        "# def convert_yolo_bbox(img_size, box):\n",
        "#     # img_bbox file is [0:img] [1:left X] [2:bottom Y] [3:right X] [4:top Y]\n",
        "#     dw = 1./img_size[0]\n",
        "#     dh = 1./img_size[1]\n",
        "#     x = (int(box[1]) + int(box[3]))/2.0\n",
        "#     y = (int(box[2]) + int(box[4]))/2.0\n",
        "#     w = abs(int(box[3]) - int(box[1]))\n",
        "#     h = abs(int(box[4]) - int(box[2]))\n",
        "#     x = x*dw\n",
        "#     w = w*dw\n",
        "#     y = y*dh\n",
        "#     h = h*dh\n",
        "#     # Yolo bbox is center x, y and width, height\n",
        "#     return (x,y,w,h)\n",
        "\n",
        "# def generate_bbox_file(datapath, labelpath, classid, classname):\n",
        "#     dataDir = os.path.join(datapath, str(classid))\n",
        "#     labelDir = os.path.join(labelpath, str(classid))\n",
        "#     bb_filename = os.path.join(dataDir, 'bb_info.txt')\n",
        "#     if not os.path.exists(labelDir):\n",
        "#         os.makedirs(labelDir)\n",
        "#     with open(bb_filename) as fp:\n",
        "#         for line in fp.readlines():\n",
        "#             # img_bbox file is [0:img] [1:left X] [2:bottom Y] [3:right X] [4:top Y]\n",
        "#             img_bbox = line.strip('\\n').split(' ')\n",
        "#             if img_bbox[0] != 'img':\n",
        "#                 img_bbox_filename = os.path.join(dataDir, img_bbox[0]+'.txt')\n",
        "#                 with open(img_bbox_filename, 'w') as f:\n",
        "#                     # [number of bbox]\n",
        "#                     # [left X] [top Y] [right X] [bottom Y] [class name]\n",
        "#                     f.write('1\\n')\n",
        "#                     f.write('%s %s %s %s %s\\n' %(img_bbox[1], img_bbox[4], img_bbox[3], img_bbox[2], classname))\n",
        "#                     f.close()\n",
        "\n",
        "#                 image_filename = os.path.join(dataDir, img_bbox[0]+'.jpg')\n",
        "#                 yolo_label_filename = os.path.join(labelDir, img_bbox[0]+'.txt')\n",
        "#                 with open(yolo_label_filename, 'w') as f:\n",
        "#                     img = Image.open(image_filename)\n",
        "#                     yolo_bbox = convert_yolo_bbox(img.size, img_bbox)\n",
        "#                     if (yolo_bbox[2] > 1) or (yolo_bbox[3] > 1):\n",
        "#                         print(\"image %s bbox is \" %(image_filename) + ' '.join(map(str, yolo_bbox)))\n",
        "#                     f.write(str(classid-1) + ' ' + ' '.join(map(str, yolo_bbox)) + '\\n')\n",
        "#                     img.close()\n",
        "#                     f.close()\n",
        "#         fp.close()\n",
        "\n",
        "# classid = 0\n",
        "# classid2name = {}\n",
        "# if os.path.exists(classfilename):\n",
        "#     with open(classfilename) as cf:\n",
        "#         for line in cf.readlines():\n",
        "#             classname = line.strip('\\n')\n",
        "#             classid = classid + 1\n",
        "#             classid2name[classid] = classname\n",
        "\n",
        "# for id in classid2name.keys():\n",
        "#     print(\"generating %d %s\" %(id, classid2name[id]))\n",
        "#     generate_bbox_file(datapath, labelpath, id, classid2name[id])\n",
        "# print('Completed')"
      ],
      "metadata": {
        "id": "NFlIxqVhCh9R"
      },
      "execution_count": 9,
      "outputs": []
    },
    {
      "cell_type": "code",
      "source": [
        "# upload \"custom_coco.yaml\" in /content/yolov5/data\n",
        "# do with 60 epochs for best results\n",
        "\n",
        "!python train.py --img 640 --batch 2 --epochs 3 --data /content/yolov5/data/custom_coco.yaml --weights yolov5s.pt --cache\n",
        "\n",
        "# runs/train/exp/weights/best.pt\n",
        "# yolov5x.pt"
      ],
      "metadata": {
        "id": "yAJDyLpD0yYN",
        "outputId": "05017922-c490-4580-9953-5ab2fe4f2260",
        "colab": {
          "base_uri": "https://localhost:8080/"
        }
      },
      "execution_count": 14,
      "outputs": [
        {
          "output_type": "stream",
          "name": "stdout",
          "text": [
            "Downloading https://ultralytics.com/assets/Arial.ttf to /root/.config/Ultralytics/Arial.ttf...\n",
            "\u001b[34m\u001b[1mtrain: \u001b[0mweights=yolov5s.pt, cfg=, data=/content/yolov5/data/custom_coco.yaml, hyp=data/hyps/hyp.scratch-low.yaml, epochs=3, batch_size=2, imgsz=640, rect=False, resume=False, nosave=False, noval=False, noautoanchor=False, evolve=None, bucket=, cache=ram, image_weights=False, device=, multi_scale=False, single_cls=False, optimizer=SGD, sync_bn=False, workers=8, project=runs/train, name=exp, exist_ok=False, quad=False, cos_lr=False, label_smoothing=0.0, patience=100, freeze=[0], save_period=-1, local_rank=-1, entity=None, upload_dataset=False, bbox_interval=-1, artifact_alias=latest\n",
            "\u001b[34m\u001b[1mgithub: \u001b[0mup to date with https://github.com/ultralytics/yolov5 ✅\n",
            "YOLOv5 🚀 v6.1-74-gcf4f3c3 torch 1.10.0+cu111 CPU\n",
            "\n",
            "\u001b[34m\u001b[1mhyperparameters: \u001b[0mlr0=0.01, lrf=0.01, momentum=0.937, weight_decay=0.0005, warmup_epochs=3.0, warmup_momentum=0.8, warmup_bias_lr=0.1, box=0.05, cls=0.5, cls_pw=1.0, obj=1.0, obj_pw=1.0, iou_t=0.2, anchor_t=4.0, fl_gamma=0.0, hsv_h=0.015, hsv_s=0.7, hsv_v=0.4, degrees=0.0, translate=0.1, scale=0.5, shear=0.0, perspective=0.0, flipud=0.0, fliplr=0.5, mosaic=1.0, mixup=0.0, copy_paste=0.0\n",
            "\u001b[34m\u001b[1mWeights & Biases: \u001b[0mrun 'pip install wandb' to automatically track and visualize YOLOv5 🚀 runs (RECOMMENDED)\n",
            "\u001b[34m\u001b[1mTensorBoard: \u001b[0mStart with 'tensorboard --logdir runs/train', view at http://localhost:6006/\n",
            "Downloading https://github.com/ultralytics/yolov5/releases/download/v6.1/yolov5s.pt to yolov5s.pt...\n",
            "100% 14.1M/14.1M [00:00<00:00, 53.5MB/s]\n",
            "\n",
            "Overriding model.yaml nc=80 with nc=1\n",
            "\n",
            "                 from  n    params  module                                  arguments                     \n",
            "  0                -1  1      3520  models.common.Conv                      [3, 32, 6, 2, 2]              \n",
            "  1                -1  1     18560  models.common.Conv                      [32, 64, 3, 2]                \n",
            "  2                -1  1     18816  models.common.C3                        [64, 64, 1]                   \n",
            "  3                -1  1     73984  models.common.Conv                      [64, 128, 3, 2]               \n",
            "  4                -1  2    115712  models.common.C3                        [128, 128, 2]                 \n",
            "  5                -1  1    295424  models.common.Conv                      [128, 256, 3, 2]              \n",
            "  6                -1  3    625152  models.common.C3                        [256, 256, 3]                 \n",
            "  7                -1  1   1180672  models.common.Conv                      [256, 512, 3, 2]              \n",
            "  8                -1  1   1182720  models.common.C3                        [512, 512, 1]                 \n",
            "  9                -1  1    656896  models.common.SPPF                      [512, 512, 5]                 \n",
            " 10                -1  1    131584  models.common.Conv                      [512, 256, 1, 1]              \n",
            " 11                -1  1         0  torch.nn.modules.upsampling.Upsample    [None, 2, 'nearest']          \n",
            " 12           [-1, 6]  1         0  models.common.Concat                    [1]                           \n",
            " 13                -1  1    361984  models.common.C3                        [512, 256, 1, False]          \n",
            " 14                -1  1     33024  models.common.Conv                      [256, 128, 1, 1]              \n",
            " 15                -1  1         0  torch.nn.modules.upsampling.Upsample    [None, 2, 'nearest']          \n",
            " 16           [-1, 4]  1         0  models.common.Concat                    [1]                           \n",
            " 17                -1  1     90880  models.common.C3                        [256, 128, 1, False]          \n",
            " 18                -1  1    147712  models.common.Conv                      [128, 128, 3, 2]              \n",
            " 19          [-1, 14]  1         0  models.common.Concat                    [1]                           \n",
            " 20                -1  1    296448  models.common.C3                        [256, 256, 1, False]          \n",
            " 21                -1  1    590336  models.common.Conv                      [256, 256, 3, 2]              \n",
            " 22          [-1, 10]  1         0  models.common.Concat                    [1]                           \n",
            " 23                -1  1   1182720  models.common.C3                        [512, 512, 1, False]          \n",
            " 24      [17, 20, 23]  1     16182  models.yolo.Detect                      [1, [[10, 13, 16, 30, 33, 23], [30, 61, 62, 45, 59, 119], [116, 90, 156, 198, 373, 326]], [128, 256, 512]]\n",
            "Model summary: 270 layers, 7022326 parameters, 7022326 gradients, 15.8 GFLOPs\n",
            "\n",
            "Transferred 343/349 items from yolov5s.pt\n",
            "Scaled weight_decay = 0.0005\n",
            "\u001b[34m\u001b[1moptimizer:\u001b[0m SGD with parameter groups 57 weight (no decay), 60 weight, 60 bias\n",
            "\u001b[34m\u001b[1malbumentations: \u001b[0mversion 1.0.3 required by YOLOv5, but version 0.1.12 is currently installed\n",
            "\u001b[34m\u001b[1mtrain: \u001b[0mScanning '/content/UECFOOD100/labels/train' images and labels...500 found, 0 missing, 0 empty, 0 corrupt: 100% 500/500 [00:00<00:00, 828.86it/s]\n",
            "\u001b[34m\u001b[1mtrain: \u001b[0mNew cache created: /content/UECFOOD100/labels/train.cache\n",
            "\u001b[34m\u001b[1mtrain: \u001b[0mCaching images (0.4GB ram): 100% 500/500 [00:03<00:00, 140.94it/s]\n",
            "\u001b[34m\u001b[1mval: \u001b[0mScanning '/content/UECFOOD100/labels/val' images and labels...120 found, 0 missing, 0 empty, 0 corrupt: 100% 120/120 [00:00<00:00, 415.55it/s]\n",
            "\u001b[34m\u001b[1mval: \u001b[0mNew cache created: /content/UECFOOD100/labels/val.cache\n",
            "\u001b[34m\u001b[1mval: \u001b[0mCaching images (0.1GB ram): 100% 120/120 [00:01<00:00, 84.19it/s]\n",
            "Plotting labels to runs/train/exp/labels.jpg... \n",
            "\n",
            "\u001b[34m\u001b[1mAutoAnchor: \u001b[0m3.48 anchors/target, 1.000 Best Possible Recall (BPR). Current anchors are a good fit to dataset ✅\n",
            "Image sizes 640 train, 640 val\n",
            "Using 2 dataloader workers\n",
            "Logging results to \u001b[1mruns/train/exp\u001b[0m\n",
            "Starting training for 3 epochs...\n",
            "\n",
            "     Epoch   gpu_mem       box       obj       cls    labels  img_size\n",
            "       0/2        0G   0.06739   0.03008         0         6       640: 100% 250/250 [10:56<00:00,  2.63s/it]\n",
            "               Class     Images     Labels          P          R     mAP@.5 mAP@.5:.95:   0% 0/30 [00:00<?, ?it/s]WARNING: NMS time limit 0.120s exceeded\n",
            "               Class     Images     Labels          P          R     mAP@.5 mAP@.5:.95:   3% 1/30 [00:01<00:32,  1.14s/it]WARNING: NMS time limit 0.120s exceeded\n",
            "               Class     Images     Labels          P          R     mAP@.5 mAP@.5:.95:   7% 2/30 [00:02<00:31,  1.14s/it]WARNING: NMS time limit 0.120s exceeded\n",
            "               Class     Images     Labels          P          R     mAP@.5 mAP@.5:.95:  10% 3/30 [00:03<00:30,  1.14s/it]WARNING: NMS time limit 0.120s exceeded\n",
            "               Class     Images     Labels          P          R     mAP@.5 mAP@.5:.95:  13% 4/30 [00:04<00:29,  1.14s/it]WARNING: NMS time limit 0.120s exceeded\n",
            "               Class     Images     Labels          P          R     mAP@.5 mAP@.5:.95:  17% 5/30 [00:05<00:28,  1.13s/it]WARNING: NMS time limit 0.120s exceeded\n",
            "               Class     Images     Labels          P          R     mAP@.5 mAP@.5:.95:  20% 6/30 [00:06<00:27,  1.13s/it]WARNING: NMS time limit 0.120s exceeded\n",
            "               Class     Images     Labels          P          R     mAP@.5 mAP@.5:.95:  23% 7/30 [00:08<00:27,  1.22s/it]WARNING: NMS time limit 0.120s exceeded\n",
            "               Class     Images     Labels          P          R     mAP@.5 mAP@.5:.95:  27% 8/30 [00:09<00:27,  1.25s/it]WARNING: NMS time limit 0.120s exceeded\n",
            "               Class     Images     Labels          P          R     mAP@.5 mAP@.5:.95:  30% 9/30 [00:10<00:26,  1.28s/it]WARNING: NMS time limit 0.120s exceeded\n",
            "               Class     Images     Labels          P          R     mAP@.5 mAP@.5:.95:  33% 10/30 [00:12<00:25,  1.30s/it]WARNING: NMS time limit 0.120s exceeded\n",
            "               Class     Images     Labels          P          R     mAP@.5 mAP@.5:.95:  37% 11/30 [00:13<00:25,  1.32s/it]WARNING: NMS time limit 0.120s exceeded\n",
            "               Class     Images     Labels          P          R     mAP@.5 mAP@.5:.95:  40% 12/30 [00:14<00:23,  1.33s/it]WARNING: NMS time limit 0.120s exceeded\n",
            "               Class     Images     Labels          P          R     mAP@.5 mAP@.5:.95:  43% 13/30 [00:16<00:22,  1.35s/it]WARNING: NMS time limit 0.120s exceeded\n",
            "               Class     Images     Labels          P          R     mAP@.5 mAP@.5:.95:  47% 14/30 [00:17<00:21,  1.36s/it]WARNING: NMS time limit 0.120s exceeded\n",
            "               Class     Images     Labels          P          R     mAP@.5 mAP@.5:.95:  50% 15/30 [00:19<00:20,  1.37s/it]WARNING: NMS time limit 0.120s exceeded\n",
            "               Class     Images     Labels          P          R     mAP@.5 mAP@.5:.95:  53% 16/30 [00:20<00:18,  1.36s/it]WARNING: NMS time limit 0.120s exceeded\n",
            "               Class     Images     Labels          P          R     mAP@.5 mAP@.5:.95:  57% 17/30 [00:21<00:17,  1.35s/it]WARNING: NMS time limit 0.120s exceeded\n",
            "               Class     Images     Labels          P          R     mAP@.5 mAP@.5:.95:  60% 18/30 [00:23<00:16,  1.36s/it]WARNING: NMS time limit 0.120s exceeded\n",
            "               Class     Images     Labels          P          R     mAP@.5 mAP@.5:.95:  63% 19/30 [00:24<00:15,  1.37s/it]WARNING: NMS time limit 0.120s exceeded\n",
            "               Class     Images     Labels          P          R     mAP@.5 mAP@.5:.95:  67% 20/30 [00:25<00:13,  1.36s/it]WARNING: NMS time limit 0.120s exceeded\n",
            "               Class     Images     Labels          P          R     mAP@.5 mAP@.5:.95:  70% 21/30 [00:27<00:12,  1.37s/it]WARNING: NMS time limit 0.120s exceeded\n",
            "               Class     Images     Labels          P          R     mAP@.5 mAP@.5:.95:  73% 22/30 [00:28<00:10,  1.37s/it]WARNING: NMS time limit 0.120s exceeded\n",
            "               Class     Images     Labels          P          R     mAP@.5 mAP@.5:.95:  77% 23/30 [00:30<00:09,  1.37s/it]WARNING: NMS time limit 0.120s exceeded\n",
            "               Class     Images     Labels          P          R     mAP@.5 mAP@.5:.95:  80% 24/30 [00:31<00:08,  1.37s/it]WARNING: NMS time limit 0.120s exceeded\n",
            "               Class     Images     Labels          P          R     mAP@.5 mAP@.5:.95:  83% 25/30 [00:32<00:06,  1.37s/it]WARNING: NMS time limit 0.120s exceeded\n",
            "               Class     Images     Labels          P          R     mAP@.5 mAP@.5:.95:  87% 26/30 [00:34<00:05,  1.36s/it]WARNING: NMS time limit 0.120s exceeded\n",
            "               Class     Images     Labels          P          R     mAP@.5 mAP@.5:.95:  90% 27/30 [00:35<00:04,  1.37s/it]WARNING: NMS time limit 0.120s exceeded\n",
            "               Class     Images     Labels          P          R     mAP@.5 mAP@.5:.95:  93% 28/30 [00:37<00:02,  1.44s/it]WARNING: NMS time limit 0.120s exceeded\n",
            "               Class     Images     Labels          P          R     mAP@.5 mAP@.5:.95:  97% 29/30 [00:38<00:01,  1.52s/it]WARNING: NMS time limit 0.120s exceeded\n",
            "               Class     Images     Labels          P          R     mAP@.5 mAP@.5:.95: 100% 30/30 [00:39<00:00,  1.33s/it]\n",
            "                 all        120        120      0.297      0.392       0.21     0.0794\n",
            "\n",
            "     Epoch   gpu_mem       box       obj       cls    labels  img_size\n",
            "       1/2        0G   0.04557   0.02289         0         4       640: 100% 250/250 [10:45<00:00,  2.58s/it]\n",
            "               Class     Images     Labels          P          R     mAP@.5 mAP@.5:.95: 100% 30/30 [00:37<00:00,  1.24s/it]\n",
            "                 all        120        120      0.379      0.524      0.354       0.18\n",
            "\n",
            "     Epoch   gpu_mem       box       obj       cls    labels  img_size\n",
            "       2/2        0G    0.0386   0.01969         0         4       640: 100% 250/250 [10:40<00:00,  2.56s/it]\n",
            "               Class     Images     Labels          P          R     mAP@.5 mAP@.5:.95: 100% 30/30 [00:35<00:00,  1.17s/it]\n",
            "                 all        120        120      0.601      0.667      0.652      0.385\n",
            "\n",
            "3 epochs completed in 0.571 hours.\n",
            "Optimizer stripped from runs/train/exp/weights/last.pt, 14.4MB\n",
            "Optimizer stripped from runs/train/exp/weights/best.pt, 14.4MB\n",
            "\n",
            "Validating runs/train/exp/weights/best.pt...\n",
            "Fusing layers... \n",
            "Model summary: 213 layers, 7012822 parameters, 0 gradients, 15.8 GFLOPs\n",
            "               Class     Images     Labels          P          R     mAP@.5 mAP@.5:.95: 100% 30/30 [00:34<00:00,  1.14s/it]\n",
            "                 all        120        120      0.601      0.667      0.652      0.385\n",
            "Results saved to \u001b[1mruns/train/exp\u001b[0m\n"
          ]
        }
      ]
    },
    {
      "cell_type": "code",
      "source": [
        "# detect a custom image\n",
        "#!python detect.py --weights /content/yolov5/runs/train/exp2/weights/best.pt --img 640 --conf 0.45 --source /content/test1.jpg"
      ],
      "metadata": {
        "id": "FnsQjuPW03oO"
      },
      "execution_count": null,
      "outputs": []
    }
  ],
  "metadata": {
    "colab": {
      "collapsed_sections": [],
      "name": "YOLOv5",
      "provenance": [],
      "include_colab_link": true
    },
    "kernelspec": {
      "display_name": "Python 3",
      "name": "python3"
    }
  },
  "nbformat": 4,
  "nbformat_minor": 0
}