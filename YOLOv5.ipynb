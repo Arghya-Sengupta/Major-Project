{
  "cells": [
    {
      "cell_type": "markdown",
      "metadata": {
        "id": "view-in-github",
        "colab_type": "text"
      },
      "source": [
        "<a href=\"https://colab.research.google.com/github/Arghya-Sengupta/Major-Project/blob/main/YOLOv5.ipynb\" target=\"_parent\"><img src=\"https://colab.research.google.com/assets/colab-badge.svg\" alt=\"Open In Colab\"/></a>"
      ]
    },
    {
      "cell_type": "code",
      "source": [
        "# run this code to clone the yolov5 repository from github\n",
        "\n",
        "!git clone https://github.com/ultralytics/yolov5\n",
        "%cd yolov5\n",
        "%pip install -qr requirements.txt\n",
        "\n",
        "import torch\n",
        "from yolov5 import utils\n",
        "display = utils.notebook_init()  # checks"
      ],
      "metadata": {
        "id": "lJSuTAFu0SEM",
        "outputId": "b1d9941c-29d0-4e8e-ba59-02687af81b93",
        "colab": {
          "base_uri": "https://localhost:8080/"
        }
      },
      "execution_count": 1,
      "outputs": [
        {
          "output_type": "stream",
          "name": "stderr",
          "text": [
            "YOLOv5 🚀 v6.1-135-g7926afc torch 1.10.0+cu111 CPU\n"
          ]
        },
        {
          "output_type": "stream",
          "name": "stdout",
          "text": [
            "Setup complete ✅ (2 CPUs, 12.7 GB RAM, 39.6/107.7 GB disk)\n"
          ]
        }
      ]
    },
    {
      "cell_type": "code",
      "source": [
        "from google.colab import drive\n",
        "drive.mount('/content/drive')\n",
        "# !unzip -q /content/drive/MyDrive/Data/sample_data.zip -d /content/\n",
        "\n",
        "!cp \"/content/drive/MyDrive/Data/For_Colab/custom_coco.yaml\" \"/content/yolov5/data/\"\n",
        "!cp \"/content/drive/MyDrive/Data/For_Colab/custom_detect.py\" \"/content/yolov5/\"\n",
        "!cp \"/content/drive/MyDrive/Data/For_Colab/result.txt\" \"/content/\"\n",
        "print(\"All 3 files copied.\")"
      ],
      "metadata": {
        "id": "BkgJ2Kn2tOrZ",
        "outputId": "ad1981c7-020a-4a0c-cd76-493901151712",
        "colab": {
          "base_uri": "https://localhost:8080/"
        }
      },
      "execution_count": 13,
      "outputs": [
        {
          "output_type": "stream",
          "name": "stdout",
          "text": [
            "All 3 files copied.\n"
          ]
        }
      ]
    },
    {
      "cell_type": "code",
      "source": [
        "# # code for resizing the images\n",
        "# # changing pixels to res x res\n",
        "\n",
        "# import os\n",
        "# import shutil\n",
        "# from os import listdir\n",
        "# from PIL import Image\n",
        "\n",
        "# directory = '/content/drive/MyDrive/Data/Original_Images_Large/'\n",
        "# nc = 5\n",
        "# res = 800\n",
        "\n",
        "# os.makedirs('/content/drive/MyDrive/Data/Original_Images')\n",
        "# for i in range(1,nc+1):\n",
        "#     os.mkdir('/content/drive/MyDrive/Data/Original_Images/' + str(i) + '/')\n",
        "\n",
        "# for i in range(1,nc+1):\n",
        "#     shutil.copy2(directory + str(i) + '/bb_info.txt', '/content/drive/MyDrive/Data/Original_Images/' + str(i) + '/')\n",
        "\n",
        "# for i in range(1,nc+1):\n",
        "#     print(\"Working on \"+str(i))\n",
        "#     new_dir = directory + str(i) + '/'\n",
        "#     for f in listdir(new_dir):\n",
        "#         if f.endswith((\".jpg\", \".jpeg\", \".png\")):\n",
        "#             image = Image.open(new_dir + f)\n",
        "#             # image = image.resize((res,res),Image.ANTIALIAS)\n",
        "#             image.save('/content/drive/MyDrive/Data/Original_Images/' + str(i) + '/' + f)\n",
        "# print(\"Completed\")"
      ],
      "metadata": {
        "id": "rZJXoxwBsPCQ"
      },
      "execution_count": null,
      "outputs": []
    },
    {
      "cell_type": "code",
      "source": [
        "# code for modifying the bounding boxes in yolo format\n",
        "\n",
        "import os\n",
        "from PIL import Image\n",
        "\n",
        "# modify the directories accordingly\n",
        "datapath = '/content/drive/MyDrive/Data/Original_Images'\n",
        "labelpath = '/content/drive/MyDrive/Data/Original_Images/labels'\n",
        "classfilename = '/content/drive/MyDrive/Data/For_Colab/foods.names'\n",
        "\n",
        "def convert_yolo_bbox(img_size, box):\n",
        "    # img_bbox file format is [0:img] [1:left X] [2:bottom Y] [3:right X] [4:top Y]\n",
        "    dw = 1./img_size[0]\n",
        "    dh = 1./img_size[1]\n",
        "    x = (int(box[1]) + int(box[3]))/2.0\n",
        "    y = (int(box[2]) + int(box[4]))/2.0\n",
        "    w = abs(int(box[3]) - int(box[1]))\n",
        "    h = abs(int(box[4]) - int(box[2]))\n",
        "    x *= dw\n",
        "    w *= dw\n",
        "    y *= dh\n",
        "    h *= dh\n",
        "    # yolo_bbox file format is center x, y and width, height\n",
        "    return (x,y,w,h)\n",
        "\n",
        "def generate_bbox_file(classid):\n",
        "    dataDir = os.path.join(datapath, str(classid))\n",
        "    labelDir = os.path.join(labelpath, str(classid))\n",
        "    bb_filename = os.path.join(dataDir, 'bb_info.txt')\n",
        "    if not os.path.exists(labelDir):\n",
        "        os.makedirs(labelDir)\n",
        "    with open(bb_filename) as fp:\n",
        "        for line in fp.readlines():\n",
        "            # img_bbox file is [0:img] [1:left X] [2:bottom Y] [3:right X] [4:top Y]\n",
        "            img_bbox = line.strip('\\n').split(' ')\n",
        "            if img_bbox[0] != 'img':\n",
        "                image_filename = os.path.join(dataDir, img_bbox[0]+'.jpg')\n",
        "                yolo_label_filename = os.path.join(labelDir, img_bbox[0]+'.txt')\n",
        "                with open(yolo_label_filename, 'w') as f:\n",
        "                    img = Image.open(image_filename)\n",
        "                    yolo_bbox = convert_yolo_bbox(img.size, img_bbox)\n",
        "                    # if (yolo_bbox[2] > 1) or (yolo_bbox[3] > 1):\n",
        "                    #     print(\"image %s bbox is \" %(image_filename) + ' '.join(map(str, yolo_bbox)))\n",
        "                    f.write(str(classid-1) + ' ' + ' '.join(map(str, yolo_bbox)) + '\\n')\n",
        "                    img.close()\n",
        "                    f.close()\n",
        "        fp.close()\n",
        "\n",
        "classid = 0\n",
        "classid2name = {}\n",
        "if os.path.exists(classfilename):\n",
        "    with open(classfilename) as cf:\n",
        "        for line in cf.readlines():\n",
        "            classname = line.strip('\\n')\n",
        "            classid = classid + 1\n",
        "            classid2name[classid] = classname\n",
        "\n",
        "for id in classid2name.keys():\n",
        "    print(\"Generating %d %s\" %(id, classid2name[id]))\n",
        "    generate_bbox_file(id)\n",
        "print('Completed')"
      ],
      "metadata": {
        "id": "I6AhF2sshOQv",
        "outputId": "e12a6758-1ddc-494d-a9b3-a340a57f5fc9",
        "colab": {
          "base_uri": "https://localhost:8080/"
        }
      },
      "execution_count": null,
      "outputs": [
        {
          "output_type": "stream",
          "name": "stdout",
          "text": [
            "Generating 1 rice\n",
            "Generating 2 toast\n",
            "Generating 3 omelet\n",
            "Generating 4 fish\n",
            "Generating 5 salad\n",
            "Completed\n"
          ]
        }
      ]
    },
    {
      "cell_type": "code",
      "source": [
        "# delete the \"Training_Images\" folder first (if present)\n",
        "# %rm -rf /content/UECFOOD100\n",
        "# code for spliting both images and labels for training and validation\n",
        "\n",
        "import os\n",
        "import glob\n",
        "import shutil\n",
        "from os.path import isfile, join\n",
        "from random import randint\n",
        "from os import listdir\n",
        "\n",
        "directory = '/content/drive/MyDrive/Data/Original_Images/'\n",
        "nc = 5\t# number of catagories\n",
        "\n",
        "def make_directories():\n",
        "\tos.makedirs('/content/drive/MyDrive/Data/Training_Images/images/train')\n",
        "\tos.mkdir('/content/drive/MyDrive/Data/Training_Images/images/val/')\n",
        "\tos.makedirs('/content/drive/MyDrive/Data/Training_Images/labels/train')\n",
        "\tos.mkdir('/content/drive/MyDrive/Data/Training_Images/labels/val/')\n",
        "\n",
        "def split_files(probability):\n",
        "\tt=0\n",
        "\tv=0\n",
        "\tfor i in range(1,nc+1):\n",
        "\t\tprint(\"Working on \"+str(i))\n",
        "\t\tnew_dir = directory + str(i) + '/'\n",
        "\t\tfor f in listdir(new_dir):\n",
        "\t\t\tif isfile(join(new_dir, f)) and f.endswith((\".jpg\", \".jpeg\", \".png\")):\n",
        "\t\t\t\tfile_name = os.path.splitext(f)[0]\n",
        "\t\t\t\t\t\t\t\t\t\t\t\t\t\n",
        "\t\t\t\tif(randint(1, 100) <= probability):\t\n",
        "\t\t\t\t\tsplit = 'train/'\n",
        "\t\t\t\t\tt +=1\n",
        "\t\t\t\telse:\n",
        "\t\t\t\t\tsplit = 'val/'\n",
        "\t\t\t\t\tv += 1\n",
        "\n",
        "\t\t\t\timgage_src = new_dir + f\n",
        "\t\t\t\timgage_dst = \"/content/drive/MyDrive/Data/Training_Images/images/\" + split\n",
        "\n",
        "\t\t\t\tlabel_src = directory + \"labels/\" + str(i) + \"/\" + file_name + \".txt\"\n",
        "\t\t\t\tlabel_dst = \"/content/drive/MyDrive/Data/Training_Images/labels/\" + split\n",
        "\n",
        "\t\t\t\tshutil.copy2(imgage_src, imgage_dst)\n",
        "\t\t\t\tshutil.copy2(label_src, label_dst)\n",
        "\tprint(\"\\n\" + str(t) + \" (\" + str(100.0*t/(t+v)) + \" %) Images for training\")\n",
        "\tprint(str(v) + \" (\" + str(100.0*v/(t+v)) + \" %) Images for validation\")\n",
        "\n",
        "make_directories()\n",
        "split_files(70)\t# 70% for training and 30% for validation\n",
        "print(\"\\nTraining images stored in Google Drive under /Data/Training_Images/\")"
      ],
      "metadata": {
        "id": "8Boiut0khZuV",
        "outputId": "81dd2f0c-d446-46ee-d021-df9c6fa69c29",
        "colab": {
          "base_uri": "https://localhost:8080/"
        }
      },
      "execution_count": null,
      "outputs": [
        {
          "output_type": "stream",
          "name": "stdout",
          "text": [
            "Working on 1\n",
            "Working on 2\n",
            "Working on 3\n",
            "Working on 4\n",
            "Working on 5\n",
            "\n",
            "358 (71.6 %) Images for training\n",
            "142 (28.4 %) Images for validation\n",
            "\n",
            "Training images stored in Google Drive under /Data/Training_Images/\n"
          ]
        }
      ]
    },
    {
      "cell_type": "code",
      "source": [
        "# do with 60 epochs for best results\n",
        "\n",
        "# !python train.py --img 800 --batch 4 --epochs 3 --data /content/yolov5/data/custom_coco.yaml --weights yolov5s.pt --cache\n",
        "!python train.py --batch 2 --epochs 15 --data /content/yolov5/data/custom_coco.yaml --weights /content/yolov5/runs/train/exp/weights/best.pt --cache\n",
        "# From 51 epochs\n",
        "\n",
        "# runs/train/exp/weights/best.pt"
      ],
      "metadata": {
        "id": "yAJDyLpD0yYN",
        "outputId": "d737e506-33d8-470f-bed8-a00523da3851",
        "colab": {
          "base_uri": "https://localhost:8080/"
        }
      },
      "execution_count": 8,
      "outputs": [
        {
          "output_type": "stream",
          "name": "stdout",
          "text": [
            "\u001b[34m\u001b[1mtrain: \u001b[0mweights=/content/yolov5/runs/train/exp/weights/best.pt, cfg=, data=/content/yolov5/data/custom_coco.yaml, hyp=data/hyps/hyp.scratch-low.yaml, epochs=15, batch_size=2, imgsz=640, rect=False, resume=False, nosave=False, noval=False, noautoanchor=False, evolve=None, bucket=, cache=ram, image_weights=False, device=, multi_scale=False, single_cls=False, optimizer=SGD, sync_bn=False, workers=8, project=runs/train, name=exp, exist_ok=False, quad=False, cos_lr=False, label_smoothing=0.0, patience=100, freeze=[0], save_period=-1, local_rank=-1, entity=None, upload_dataset=False, bbox_interval=-1, artifact_alias=latest\n",
            "\u001b[34m\u001b[1mgithub: \u001b[0mup to date with https://github.com/ultralytics/yolov5 ✅\n",
            "YOLOv5 🚀 v6.1-135-g7926afc torch 1.10.0+cu111 CPU\n",
            "\n",
            "\u001b[34m\u001b[1mhyperparameters: \u001b[0mlr0=0.01, lrf=0.01, momentum=0.937, weight_decay=0.0005, warmup_epochs=3.0, warmup_momentum=0.8, warmup_bias_lr=0.1, box=0.05, cls=0.5, cls_pw=1.0, obj=1.0, obj_pw=1.0, iou_t=0.2, anchor_t=4.0, fl_gamma=0.0, hsv_h=0.015, hsv_s=0.7, hsv_v=0.4, degrees=0.0, translate=0.1, scale=0.5, shear=0.0, perspective=0.0, flipud=0.0, fliplr=0.5, mosaic=1.0, mixup=0.0, copy_paste=0.0\n",
            "\u001b[34m\u001b[1mWeights & Biases: \u001b[0mrun 'pip install wandb' to automatically track and visualize YOLOv5 🚀 runs (RECOMMENDED)\n",
            "\u001b[34m\u001b[1mTensorBoard: \u001b[0mStart with 'tensorboard --logdir runs/train', view at http://localhost:6006/\n",
            "\n",
            "                 from  n    params  module                                  arguments                     \n",
            "  0                -1  1      3520  models.common.Conv                      [3, 32, 6, 2, 2]              \n",
            "  1                -1  1     18560  models.common.Conv                      [32, 64, 3, 2]                \n",
            "  2                -1  1     18816  models.common.C3                        [64, 64, 1]                   \n",
            "  3                -1  1     73984  models.common.Conv                      [64, 128, 3, 2]               \n",
            "  4                -1  2    115712  models.common.C3                        [128, 128, 2]                 \n",
            "  5                -1  1    295424  models.common.Conv                      [128, 256, 3, 2]              \n",
            "  6                -1  3    625152  models.common.C3                        [256, 256, 3]                 \n",
            "  7                -1  1   1180672  models.common.Conv                      [256, 512, 3, 2]              \n",
            "  8                -1  1   1182720  models.common.C3                        [512, 512, 1]                 \n",
            "  9                -1  1    656896  models.common.SPPF                      [512, 512, 5]                 \n",
            " 10                -1  1    131584  models.common.Conv                      [512, 256, 1, 1]              \n",
            " 11                -1  1         0  torch.nn.modules.upsampling.Upsample    [None, 2, 'nearest']          \n",
            " 12           [-1, 6]  1         0  models.common.Concat                    [1]                           \n",
            " 13                -1  1    361984  models.common.C3                        [512, 256, 1, False]          \n",
            " 14                -1  1     33024  models.common.Conv                      [256, 128, 1, 1]              \n",
            " 15                -1  1         0  torch.nn.modules.upsampling.Upsample    [None, 2, 'nearest']          \n",
            " 16           [-1, 4]  1         0  models.common.Concat                    [1]                           \n",
            " 17                -1  1     90880  models.common.C3                        [256, 128, 1, False]          \n",
            " 18                -1  1    147712  models.common.Conv                      [128, 128, 3, 2]              \n",
            " 19          [-1, 14]  1         0  models.common.Concat                    [1]                           \n",
            " 20                -1  1    296448  models.common.C3                        [256, 256, 1, False]          \n",
            " 21                -1  1    590336  models.common.Conv                      [256, 256, 3, 2]              \n",
            " 22          [-1, 10]  1         0  models.common.Concat                    [1]                           \n",
            " 23                -1  1   1182720  models.common.C3                        [512, 512, 1, False]          \n",
            " 24      [17, 20, 23]  1     26970  models.yolo.Detect                      [5, [[10, 13, 16, 30, 33, 23], [30, 61, 62, 45, 59, 119], [116, 90, 156, 198, 373, 326]], [128, 256, 512]]\n",
            "Model summary: 270 layers, 7033114 parameters, 7033114 gradients, 15.9 GFLOPs\n",
            "\n",
            "Transferred 349/349 items from /content/yolov5/runs/train/exp/weights/best.pt\n",
            "Scaled weight_decay = 0.0005\n",
            "\u001b[34m\u001b[1moptimizer:\u001b[0m SGD with parameter groups 57 weight (no decay), 60 weight, 60 bias\n",
            "\u001b[34m\u001b[1malbumentations: \u001b[0mversion 1.0.3 required by YOLOv5, but version 0.1.12 is currently installed\n",
            "\u001b[34m\u001b[1mtrain: \u001b[0mScanning '/content/drive/MyDrive/Data/Training_Images/labels/train.cache' images and labels... 350 found, 0 missing, 0 empty, 0 corrupt: 100% 350/350 [00:00<?, ?it/s]\n",
            "\u001b[34m\u001b[1mtrain: \u001b[0mWARNING: /content/drive/MyDrive/Data/Training_Images/images/train/5854.jpg: corrupt JPEG restored and saved\n",
            "\u001b[34m\u001b[1mtrain: \u001b[0mWARNING: /content/drive/MyDrive/Data/Training_Images/images/train/81.jpg: corrupt JPEG restored and saved\n",
            "\u001b[34m\u001b[1mtrain: \u001b[0mWARNING: /content/drive/MyDrive/Data/Training_Images/images/train/83.jpg: corrupt JPEG restored and saved\n",
            "\u001b[34m\u001b[1mtrain: \u001b[0mWARNING: /content/drive/MyDrive/Data/Training_Images/images/train/85.jpg: corrupt JPEG restored and saved\n",
            "\u001b[34m\u001b[1mtrain: \u001b[0mWARNING: /content/drive/MyDrive/Data/Training_Images/images/train/87.jpg: corrupt JPEG restored and saved\n",
            "\u001b[34m\u001b[1mtrain: \u001b[0mWARNING: /content/drive/MyDrive/Data/Training_Images/images/train/98.jpg: corrupt JPEG restored and saved\n",
            "\u001b[34m\u001b[1mtrain: \u001b[0mCaching images (0.3GB ram): 100% 350/350 [00:03<00:00, 101.96it/s]\n",
            "\u001b[34m\u001b[1mval: \u001b[0mScanning '/content/drive/MyDrive/Data/Training_Images/labels/train.cache' images and labels... 350 found, 0 missing, 0 empty, 0 corrupt: 100% 350/350 [00:00<?, ?it/s]\n",
            "\u001b[34m\u001b[1mtrain: \u001b[0mWARNING: /content/drive/MyDrive/Data/Training_Images/images/train/5854.jpg: corrupt JPEG restored and saved\n",
            "\u001b[34m\u001b[1mtrain: \u001b[0mWARNING: /content/drive/MyDrive/Data/Training_Images/images/train/81.jpg: corrupt JPEG restored and saved\n",
            "\u001b[34m\u001b[1mtrain: \u001b[0mWARNING: /content/drive/MyDrive/Data/Training_Images/images/train/83.jpg: corrupt JPEG restored and saved\n",
            "\u001b[34m\u001b[1mtrain: \u001b[0mWARNING: /content/drive/MyDrive/Data/Training_Images/images/train/85.jpg: corrupt JPEG restored and saved\n",
            "\u001b[34m\u001b[1mtrain: \u001b[0mWARNING: /content/drive/MyDrive/Data/Training_Images/images/train/87.jpg: corrupt JPEG restored and saved\n",
            "\u001b[34m\u001b[1mtrain: \u001b[0mWARNING: /content/drive/MyDrive/Data/Training_Images/images/train/98.jpg: corrupt JPEG restored and saved\n",
            "\u001b[34m\u001b[1mval: \u001b[0mCaching images (0.3GB ram): 100% 350/350 [00:03<00:00, 93.39it/s] \n",
            "Plotting labels to runs/train/exp3/labels.jpg... \n",
            "\n",
            "\u001b[34m\u001b[1mAutoAnchor: \u001b[0m2.41 anchors/target, 1.000 Best Possible Recall (BPR). Current anchors are a good fit to dataset ✅\n",
            "Image sizes 640 train, 640 val\n",
            "Using 2 dataloader workers\n",
            "Logging results to \u001b[1mruns/train/exp3\u001b[0m\n",
            "Starting training for 15 epochs...\n",
            "\n",
            "     Epoch   gpu_mem       box       obj       cls    labels  img_size\n",
            "      0/14        0G   0.01697   0.01345  0.006668         6       640: 100% 175/175 [08:22<00:00,  2.87s/it]\n",
            "               Class     Images     Labels          P          R     mAP@.5 mAP@.5:.95: 100% 88/88 [01:58<00:00,  1.34s/it]\n",
            "                 all        350        357      0.891       0.97      0.974      0.717\n",
            "\n",
            "     Epoch   gpu_mem       box       obj       cls    labels  img_size\n",
            "      1/14        0G   0.01578   0.01178  0.004563         6       640: 100% 175/175 [08:07<00:00,  2.78s/it]\n",
            "               Class     Images     Labels          P          R     mAP@.5 mAP@.5:.95: 100% 88/88 [01:57<00:00,  1.33s/it]\n",
            "                 all        350        357      0.927      0.953      0.978       0.67\n",
            "\n",
            "     Epoch   gpu_mem       box       obj       cls    labels  img_size\n",
            "      2/14        0G   0.02156   0.01192  0.004439         5       640: 100% 175/175 [08:06<00:00,  2.78s/it]\n",
            "               Class     Images     Labels          P          R     mAP@.5 mAP@.5:.95: 100% 88/88 [01:56<00:00,  1.33s/it]\n",
            "                 all        350        357      0.813      0.962      0.888      0.504\n",
            "\n",
            "     Epoch   gpu_mem       box       obj       cls    labels  img_size\n",
            "      3/14        0G   0.02362   0.01188  0.004258         4       640: 100% 175/175 [08:23<00:00,  2.88s/it]\n",
            "               Class     Images     Labels          P          R     mAP@.5 mAP@.5:.95: 100% 88/88 [01:59<00:00,  1.35s/it]\n",
            "                 all        350        357      0.807      0.923      0.881      0.444\n",
            "\n",
            "     Epoch   gpu_mem       box       obj       cls    labels  img_size\n",
            "      4/14        0G   0.02305   0.01276   0.00543         5       640: 100% 175/175 [08:25<00:00,  2.89s/it]\n",
            "               Class     Images     Labels          P          R     mAP@.5 mAP@.5:.95: 100% 88/88 [01:58<00:00,  1.35s/it]\n",
            "                 all        350        357      0.918      0.924      0.971      0.641\n",
            "\n",
            "     Epoch   gpu_mem       box       obj       cls    labels  img_size\n",
            "      5/14        0G   0.02145   0.01267  0.005588         9       640: 100% 175/175 [08:21<00:00,  2.87s/it]\n",
            "               Class     Images     Labels          P          R     mAP@.5 mAP@.5:.95: 100% 88/88 [01:57<00:00,  1.34s/it]\n",
            "                 all        350        357      0.894      0.961      0.964      0.667\n",
            "\n",
            "     Epoch   gpu_mem       box       obj       cls    labels  img_size\n",
            "      6/14        0G   0.02112   0.01222  0.005179         4       640: 100% 175/175 [08:16<00:00,  2.84s/it]\n",
            "               Class     Images     Labels          P          R     mAP@.5 mAP@.5:.95: 100% 88/88 [01:56<00:00,  1.33s/it]\n",
            "                 all        350        357      0.924      0.933      0.958        0.6\n",
            "\n",
            "     Epoch   gpu_mem       box       obj       cls    labels  img_size\n",
            "      7/14        0G   0.01793   0.01241  0.005368         8       640: 100% 175/175 [08:18<00:00,  2.85s/it]\n",
            "               Class     Images     Labels          P          R     mAP@.5 mAP@.5:.95: 100% 88/88 [01:57<00:00,  1.34s/it]\n",
            "                 all        350        357      0.913      0.936      0.968      0.697\n",
            "\n",
            "     Epoch   gpu_mem       box       obj       cls    labels  img_size\n",
            "      8/14        0G   0.01724   0.01192  0.005244         3       640: 100% 175/175 [08:28<00:00,  2.91s/it]\n",
            "               Class     Images     Labels          P          R     mAP@.5 mAP@.5:.95: 100% 88/88 [01:58<00:00,  1.35s/it]\n",
            "                 all        350        357      0.913       0.96      0.968      0.687\n",
            "\n",
            "     Epoch   gpu_mem       box       obj       cls    labels  img_size\n",
            "      9/14        0G   0.01748   0.01262  0.005594         8       640: 100% 175/175 [08:29<00:00,  2.91s/it]\n",
            "               Class     Images     Labels          P          R     mAP@.5 mAP@.5:.95: 100% 88/88 [01:58<00:00,  1.34s/it]\n",
            "                 all        350        357      0.928       0.95      0.974      0.714\n",
            "\n",
            "     Epoch   gpu_mem       box       obj       cls    labels  img_size\n",
            "     10/14        0G   0.01637     0.013   0.00642         7       640: 100% 175/175 [08:26<00:00,  2.89s/it]\n",
            "               Class     Images     Labels          P          R     mAP@.5 mAP@.5:.95: 100% 88/88 [01:57<00:00,  1.33s/it]\n",
            "                 all        350        357      0.944      0.951      0.978      0.723\n",
            "\n",
            "     Epoch   gpu_mem       box       obj       cls    labels  img_size\n",
            "     11/14        0G    0.0184   0.01325  0.007011         4       640: 100% 175/175 [08:30<00:00,  2.91s/it]\n",
            "               Class     Images     Labels          P          R     mAP@.5 mAP@.5:.95: 100% 88/88 [01:57<00:00,  1.33s/it]\n",
            "                 all        350        357      0.957      0.961      0.984       0.74\n",
            "\n",
            "     Epoch   gpu_mem       box       obj       cls    labels  img_size\n",
            "     12/14        0G   0.01611   0.01311  0.005576         6       640: 100% 175/175 [08:28<00:00,  2.91s/it]\n",
            "               Class     Images     Labels          P          R     mAP@.5 mAP@.5:.95: 100% 88/88 [01:58<00:00,  1.35s/it]\n",
            "                 all        350        357      0.914       0.99      0.984      0.743\n",
            "\n",
            "     Epoch   gpu_mem       box       obj       cls    labels  img_size\n",
            "     13/14        0G   0.01592    0.0129  0.006074         3       640: 100% 175/175 [08:46<00:00,  3.01s/it]\n",
            "               Class     Images     Labels          P          R     mAP@.5 mAP@.5:.95: 100% 88/88 [01:59<00:00,  1.36s/it]\n",
            "                 all        350        357      0.914      0.988      0.982      0.742\n",
            "\n",
            "     Epoch   gpu_mem       box       obj       cls    labels  img_size\n",
            "     14/14        0G   0.01529   0.01249  0.005966         5       640: 100% 175/175 [08:44<00:00,  3.00s/it]\n",
            "               Class     Images     Labels          P          R     mAP@.5 mAP@.5:.95: 100% 88/88 [01:59<00:00,  1.36s/it]\n",
            "                 all        350        357      0.915       0.99      0.982      0.749\n",
            "\n",
            "15 epochs completed in 2.598 hours.\n",
            "Optimizer stripped from runs/train/exp3/weights/last.pt, 14.4MB\n",
            "Optimizer stripped from runs/train/exp3/weights/best.pt, 14.4MB\n",
            "\n",
            "Validating runs/train/exp3/weights/best.pt...\n",
            "Fusing layers... \n",
            "Model summary: 213 layers, 7023610 parameters, 0 gradients, 15.8 GFLOPs\n",
            "               Class     Images     Labels          P          R     mAP@.5 mAP@.5:.95: 100% 88/88 [01:53<00:00,  1.29s/it]\n",
            "                 all        350        357      0.915       0.99      0.982      0.749\n",
            "                rice        350         65      0.757          1      0.971      0.758\n",
            "               toast        350         76          1          1      0.995      0.809\n",
            "              omelet        350         65      0.956      0.998      0.991       0.73\n",
            "                fish        350         75      0.948      0.964      0.972       0.69\n",
            "               salad        350         76      0.915      0.987      0.981      0.756\n",
            "Results saved to \u001b[1mruns/train/exp3\u001b[0m\n"
          ]
        }
      ]
    },
    {
      "cell_type": "code",
      "source": [
        "# copy best.pt in Google Drive\n",
        "import shutil\n",
        "\n",
        "shutil.copy2(\"/content/yolov5/runs/train/exp3/weights/best.pt\" , \"/content/drive/MyDrive/Data/Weights_Files\")\n",
        "print(\"Weight file Copied.\")"
      ],
      "metadata": {
        "id": "E0w9VRv6rZUs",
        "outputId": "fba036a7-350b-437c-807f-a6bb718a82a6",
        "colab": {
          "base_uri": "https://localhost:8080/"
        }
      },
      "execution_count": 9,
      "outputs": [
        {
          "output_type": "stream",
          "name": "stdout",
          "text": [
            "Weight file Copied.\n"
          ]
        }
      ]
    },
    {
      "cell_type": "code",
      "source": [
        "# from calculate_calories import *\n",
        "\n",
        "# total_calorie = get_foods()\n",
        "# print(\"Total Calories = \",total_calorie)\n",
        "\n",
        "import os\n",
        "\n",
        "path = \"/content/drive/MyDrive/Data/\"\n",
        "detection_path = path +  \"Detection_Images/\"\n",
        "results_path = path + \"Results/\"\n",
        "N = len(os.listdir(detection_path))\n",
        "os.mkdir(results_path)\n",
        "\n",
        "for  i in range(1,N+1):\n",
        "\ttest_file = \"test\" + str(i) +  \".jpg\"\n",
        "\tcommand = \"python /content/yolov5/custom_detect.py --weights /content/yolov5/runs/train/exp3/weights/best.pt --conf 0.5 --source \" + detection_path + test_file\n",
        "\tprint(\"Working on\",test_file)\n",
        "\tstatus = os.system(command)\n",
        "\tif(status != 0):\n",
        "\t\tprint(test_file,\"not found\")\n",
        "print(\"Completed\")"
      ],
      "metadata": {
        "id": "HqHDViXe4u6s",
        "outputId": "67ad05d9-be31-4004-874f-be217ac068a8",
        "colab": {
          "base_uri": "https://localhost:8080/"
        }
      },
      "execution_count": 17,
      "outputs": [
        {
          "output_type": "stream",
          "name": "stdout",
          "text": [
            "Working on test1.jpg\n",
            "Working on test2.jpg\n",
            "Working on test3.jpg\n",
            "Working on test4.jpg\n",
            "Working on test5.jpg\n",
            "Working on test6.jpg\n",
            "Working on test7.jpg\n"
          ]
        }
      ]
    },
    {
      "cell_type": "code",
      "source": [
        "import pandas as pd\n",
        "\n",
        "calorie_file = pd.read_csv('/content/Calorie_Data.csv')\n",
        "result_file = '/content/result.txt'\n",
        "\n",
        "def search(food):\n",
        "\ti = 0\n",
        "\tfor food_name in calorie_file.Food_Name:\n",
        "\t\tif(food.lower() == food_name.lower()):\n",
        "\t\t\treturn i\n",
        "\t\ti += 1\n",
        "\treturn 0\n",
        "\n",
        "def get_foods():\n",
        "\ttotal = 0\n",
        "\twith open(result_file) as result:\n",
        "\t\tfor food in result:\n",
        "\t\t\tfood = food.strip()\n",
        "\t\t\tif(food is ''):\n",
        "\t\t\t\tcontinue\n",
        "\t\t\tcalorie = calorie_file.Calories[search(food)]\n",
        "\t\t\ttotal += calorie\n",
        "\treturn total\n",
        "\n",
        "total_calorie = 0\n",
        "total_calorie = get_foods()\n",
        "print(\"Total Calories = \",total_calorie)"
      ],
      "metadata": {
        "id": "jHV_58npkM2n",
        "outputId": "38b08c5d-7eae-4291-9d05-5f2bc9f12cd7",
        "colab": {
          "base_uri": "https://localhost:8080/"
        }
      },
      "execution_count": null,
      "outputs": [
        {
          "output_type": "stream",
          "name": "stdout",
          "text": [
            "Total Calories =  15\n"
          ]
        }
      ]
    }
  ],
  "metadata": {
    "colab": {
      "collapsed_sections": [],
      "name": "YOLOv5",
      "provenance": [],
      "include_colab_link": true
    },
    "kernelspec": {
      "display_name": "Python 3",
      "name": "python3"
    }
  },
  "nbformat": 4,
  "nbformat_minor": 0
}