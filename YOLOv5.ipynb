{
  "cells": [
    {
      "cell_type": "markdown",
      "metadata": {
        "id": "view-in-github",
        "colab_type": "text"
      },
      "source": [
        "<a href=\"https://colab.research.google.com/github/Arghya-Sengupta/Major-Project/blob/main/YOLOv5.ipynb\" target=\"_parent\"><img src=\"https://colab.research.google.com/assets/colab-badge.svg\" alt=\"Open In Colab\"/></a>"
      ]
    },
    {
      "cell_type": "code",
      "source": [
        "# run this code to clone the yolov5 repository from github\n",
        "\n",
        "!git clone https://github.com/ultralytics/yolov5  # clone\n",
        "%cd yolov5\n",
        "%pip install -qr requirements.txt  # install\n",
        "\n",
        "import torch\n",
        "from yolov5 import utils\n",
        "display = utils.notebook_init()  # checks"
      ],
      "metadata": {
        "id": "lJSuTAFu0SEM",
        "outputId": "bf12bfbe-43ea-4e4b-9b2e-f5436ec99906",
        "colab": {
          "base_uri": "https://localhost:8080/"
        }
      },
      "execution_count": 1,
      "outputs": [
        {
          "output_type": "stream",
          "name": "stderr",
          "text": [
            "YOLOv5 🚀 v6.1-78-gc3d5ac1 torch 1.10.0+cu111 CPU\n"
          ]
        },
        {
          "output_type": "stream",
          "name": "stdout",
          "text": [
            "Setup complete ✅ (2 CPUs, 12.7 GB RAM, 39.6/107.7 GB disk)\n"
          ]
        }
      ]
    },
    {
      "cell_type": "code",
      "source": [
        "# if you are using google colab\n",
        "# run this code to fetch data from google drive\n",
        "\n",
        "from google.colab import drive\n",
        "drive.mount('/content/drive')\n",
        "!unzip -q /content/drive/MyDrive/Data/sample_data.zip -d /content/\n",
        "!cp \"/content/drive/MyDrive/Data/custom_coco.yaml\" \"/content/yolov5/data/\"\n",
        "print(\"Check for /content/yolov5/data/custom_coco.yaml\")"
      ],
      "metadata": {
        "id": "BkgJ2Kn2tOrZ",
        "outputId": "8bb946a1-31df-400f-cf63-ce52ed14aad6",
        "colab": {
          "base_uri": "https://localhost:8080/"
        }
      },
      "execution_count": 24,
      "outputs": [
        {
          "output_type": "stream",
          "name": "stdout",
          "text": [
            "Check for /content/yolov5/data/custom_coco.yaml\n"
          ]
        }
      ]
    },
    {
      "cell_type": "code",
      "source": [
        "# code for modifying the bounding boxes in yolo format\n",
        "\n",
        "import os\n",
        "from PIL import Image\n",
        "\n",
        "# modify the directories accordingly\n",
        "datapath = '/content/sample_data'\n",
        "labelpath = '/content/sample_data/labels/'\n",
        "classfilename = '/content/drive/MyDrive/Data/food100.names'\n",
        "\n",
        "def convert_yolo_bbox(img_size, box):\n",
        "    # img_bbox file format is [0:img] [1:left X] [2:bottom Y] [3:right X] [4:top Y]\n",
        "    dw = 1./img_size[0]\n",
        "    dh = 1./img_size[1]\n",
        "    x = (int(box[1]) + int(box[3]))/2.0\n",
        "    y = (int(box[2]) + int(box[4]))/2.0\n",
        "    w = abs(int(box[3]) - int(box[1]))\n",
        "    h = abs(int(box[4]) - int(box[2]))\n",
        "    x *= dw\n",
        "    w *= dw\n",
        "    y *= dh\n",
        "    h *= dh\n",
        "    # yolo_bbox file format is center x, y and width, height\n",
        "    return (x,y,w,h)\n",
        "\n",
        "def generate_bbox_file(classid):\n",
        "    dataDir = os.path.join(datapath, str(classid))\n",
        "    labelDir = os.path.join(labelpath, str(classid))\n",
        "    bb_filename = os.path.join(dataDir, 'bb_info.txt')\n",
        "    if not os.path.exists(labelDir):\n",
        "        os.makedirs(labelDir)\n",
        "    with open(bb_filename) as fp:\n",
        "        for line in fp.readlines():\n",
        "            # img_bbox file is [0:img] [1:left X] [2:bottom Y] [3:right X] [4:top Y]\n",
        "            img_bbox = line.strip('\\n').split(' ')\n",
        "            if img_bbox[0] != 'img':\n",
        "                image_filename = os.path.join(dataDir, img_bbox[0]+'.jpg')\n",
        "                yolo_label_filename = os.path.join(labelDir, img_bbox[0]+'.txt')\n",
        "                with open(yolo_label_filename, 'w') as f:\n",
        "                    img = Image.open(image_filename)\n",
        "                    yolo_bbox = convert_yolo_bbox(img.size, img_bbox)\n",
        "                    if (yolo_bbox[2] > 1) or (yolo_bbox[3] > 1):\n",
        "                        print(\"image %s bbox is \" %(image_filename) + ' '.join(map(str, yolo_bbox)))\n",
        "                    f.write(str(classid-1) + ' ' + ' '.join(map(str, yolo_bbox)) + '\\n')\n",
        "                    img.close()\n",
        "                    f.close()\n",
        "        fp.close()\n",
        "\n",
        "classid = 0\n",
        "classid2name = {}\n",
        "if os.path.exists(classfilename):\n",
        "    with open(classfilename) as cf:\n",
        "        for line in cf.readlines():\n",
        "            classname = line.strip('\\n')\n",
        "            classid = classid + 1\n",
        "            classid2name[classid] = classname\n",
        "\n",
        "for id in classid2name.keys():\n",
        "    print(\"generating %d %s\" %(id, classid2name[id]))\n",
        "    generate_bbox_file(id)\n",
        "print('Completed')"
      ],
      "metadata": {
        "id": "I6AhF2sshOQv",
        "outputId": "d373db4d-ce8d-4e96-830d-cdbd13c7e870",
        "colab": {
          "base_uri": "https://localhost:8080/"
        }
      },
      "execution_count": 35,
      "outputs": [
        {
          "output_type": "stream",
          "name": "stdout",
          "text": [
            "generating 1 rice\n",
            "Completed\n"
          ]
        }
      ]
    },
    {
      "cell_type": "code",
      "source": [
        "# delete the UECFOOD100 folder first (if present)\n",
        "# %rm -rf /content/UECFOOD100\n",
        "# code for spliting both images and labels for training and validation\n",
        "\n",
        "import os\n",
        "import glob\n",
        "import shutil\n",
        "from os.path import isfile, join\n",
        "from random import randint\n",
        "from os import listdir\n",
        "\n",
        "directory = '/content/sample_data/'\n",
        "nc = 1\t# number of catagories\n",
        "\n",
        "def make_directories():\n",
        "\tos.makedirs('/content/UECFOOD100/images/train')\n",
        "\tos.mkdir('/content/UECFOOD100/images/val')\n",
        "\tos.makedirs('/content/UECFOOD100/labels/train')\n",
        "\tos.mkdir('/content/UECFOOD100/labels/val')\n",
        "\n",
        "def split_files(probability):\n",
        "\tt=0\n",
        "\tv=0\n",
        "\tfor i in range(1,nc+1):\n",
        "\t\tnew_dir = directory + str(i) + '/'\n",
        "\t\tfor f in listdir(new_dir):\n",
        "\t\t\tif isfile(join(new_dir, f)) and f.endswith((\".jpg\", \".jpeg\", \".png\")):\n",
        "\t\t\t\tfile_name = os.path.splitext(f)[0]\n",
        "\t\t\t\t\t\t\t\t\t\t\t\t\t\n",
        "\t\t\t\tif(randint(1, 100) <= probability):\t\n",
        "\t\t\t\t\tsplit = 'train/'\n",
        "\t\t\t\t\tt +=1\n",
        "\t\t\t\telse:\n",
        "\t\t\t\t\tsplit = 'val/'\n",
        "\t\t\t\t\tv += 1\n",
        "\n",
        "\t\t\t\timgage_src = new_dir + f\n",
        "\t\t\t\timgage_dst = \"/content/UECFOOD100/images/\" + split\n",
        "\n",
        "\t\t\t\tlabel_src = directory + \"labels/\" + str(i) + \"/\" + file_name + \".txt\"\n",
        "\t\t\t\tlabel_dst = \"/content/UECFOOD100/labels/\" + split\n",
        "\n",
        "\t\t\t\tshutil.copy2(imgage_src, imgage_dst)\n",
        "\t\t\t\tshutil.copy2(label_src, label_dst)\n",
        "\tprint(t,\"Images for training\")\n",
        "\tprint(v,\"Images for validation\")\n",
        "\n",
        "make_directories()\n",
        "split_files(70)\t# 70% for training and 30% for validation"
      ],
      "metadata": {
        "id": "8Boiut0khZuV",
        "outputId": "6f2c8cb4-e346-420f-9651-5f0be6504858",
        "colab": {
          "base_uri": "https://localhost:8080/"
        }
      },
      "execution_count": 36,
      "outputs": [
        {
          "output_type": "stream",
          "name": "stdout",
          "text": [
            "339 Images for training\n",
            "161 Images for validation\n"
          ]
        }
      ]
    },
    {
      "cell_type": "code",
      "source": [
        "# do with 60 epochs for best results\n",
        "\n",
        "!python train.py --img 640 --batch 2 --epochs 1 --data /content/yolov5/data/custom_coco.yaml --weights yolov5s.pt --cache\n",
        "\n",
        "# runs/train/exp/weights/best.pt\n",
        "# yolov5x.pt"
      ],
      "metadata": {
        "id": "yAJDyLpD0yYN",
        "outputId": "efa5a769-9d2a-41a7-8d22-0ea46c00107d",
        "colab": {
          "base_uri": "https://localhost:8080/"
        }
      },
      "execution_count": 37,
      "outputs": [
        {
          "output_type": "stream",
          "name": "stdout",
          "text": [
            "\u001b[34m\u001b[1mtrain: \u001b[0mweights=yolov5s.pt, cfg=, data=/content/yolov5/data/custom_coco.yaml, hyp=data/hyps/hyp.scratch-low.yaml, epochs=1, batch_size=2, imgsz=640, rect=False, resume=False, nosave=False, noval=False, noautoanchor=False, evolve=None, bucket=, cache=ram, image_weights=False, device=, multi_scale=False, single_cls=False, optimizer=SGD, sync_bn=False, workers=8, project=runs/train, name=exp, exist_ok=False, quad=False, cos_lr=False, label_smoothing=0.0, patience=100, freeze=[0], save_period=-1, local_rank=-1, entity=None, upload_dataset=False, bbox_interval=-1, artifact_alias=latest\n",
            "\u001b[34m\u001b[1mgithub: \u001b[0m⚠️ YOLOv5 is out of date by 2 commits. Use `git pull` or `git clone https://github.com/ultralytics/yolov5` to update.\n",
            "YOLOv5 🚀 v6.1-78-gc3d5ac1 torch 1.10.0+cu111 CPU\n",
            "\n",
            "\u001b[34m\u001b[1mhyperparameters: \u001b[0mlr0=0.01, lrf=0.01, momentum=0.937, weight_decay=0.0005, warmup_epochs=3.0, warmup_momentum=0.8, warmup_bias_lr=0.1, box=0.05, cls=0.5, cls_pw=1.0, obj=1.0, obj_pw=1.0, iou_t=0.2, anchor_t=4.0, fl_gamma=0.0, hsv_h=0.015, hsv_s=0.7, hsv_v=0.4, degrees=0.0, translate=0.1, scale=0.5, shear=0.0, perspective=0.0, flipud=0.0, fliplr=0.5, mosaic=1.0, mixup=0.0, copy_paste=0.0\n",
            "\u001b[34m\u001b[1mWeights & Biases: \u001b[0mrun 'pip install wandb' to automatically track and visualize YOLOv5 🚀 runs (RECOMMENDED)\n",
            "\u001b[34m\u001b[1mTensorBoard: \u001b[0mStart with 'tensorboard --logdir runs/train', view at http://localhost:6006/\n",
            "Overriding model.yaml nc=80 with nc=1\n",
            "\n",
            "                 from  n    params  module                                  arguments                     \n",
            "  0                -1  1      3520  models.common.Conv                      [3, 32, 6, 2, 2]              \n",
            "  1                -1  1     18560  models.common.Conv                      [32, 64, 3, 2]                \n",
            "  2                -1  1     18816  models.common.C3                        [64, 64, 1]                   \n",
            "  3                -1  1     73984  models.common.Conv                      [64, 128, 3, 2]               \n",
            "  4                -1  2    115712  models.common.C3                        [128, 128, 2]                 \n",
            "  5                -1  1    295424  models.common.Conv                      [128, 256, 3, 2]              \n",
            "  6                -1  3    625152  models.common.C3                        [256, 256, 3]                 \n",
            "  7                -1  1   1180672  models.common.Conv                      [256, 512, 3, 2]              \n",
            "  8                -1  1   1182720  models.common.C3                        [512, 512, 1]                 \n",
            "  9                -1  1    656896  models.common.SPPF                      [512, 512, 5]                 \n",
            " 10                -1  1    131584  models.common.Conv                      [512, 256, 1, 1]              \n",
            " 11                -1  1         0  torch.nn.modules.upsampling.Upsample    [None, 2, 'nearest']          \n",
            " 12           [-1, 6]  1         0  models.common.Concat                    [1]                           \n",
            " 13                -1  1    361984  models.common.C3                        [512, 256, 1, False]          \n",
            " 14                -1  1     33024  models.common.Conv                      [256, 128, 1, 1]              \n",
            " 15                -1  1         0  torch.nn.modules.upsampling.Upsample    [None, 2, 'nearest']          \n",
            " 16           [-1, 4]  1         0  models.common.Concat                    [1]                           \n",
            " 17                -1  1     90880  models.common.C3                        [256, 128, 1, False]          \n",
            " 18                -1  1    147712  models.common.Conv                      [128, 128, 3, 2]              \n",
            " 19          [-1, 14]  1         0  models.common.Concat                    [1]                           \n",
            " 20                -1  1    296448  models.common.C3                        [256, 256, 1, False]          \n",
            " 21                -1  1    590336  models.common.Conv                      [256, 256, 3, 2]              \n",
            " 22          [-1, 10]  1         0  models.common.Concat                    [1]                           \n",
            " 23                -1  1   1182720  models.common.C3                        [512, 512, 1, False]          \n",
            " 24      [17, 20, 23]  1     16182  models.yolo.Detect                      [1, [[10, 13, 16, 30, 33, 23], [30, 61, 62, 45, 59, 119], [116, 90, 156, 198, 373, 326]], [128, 256, 512]]\n",
            "Model summary: 270 layers, 7022326 parameters, 7022326 gradients, 15.8 GFLOPs\n",
            "\n",
            "Transferred 343/349 items from yolov5s.pt\n",
            "Scaled weight_decay = 0.0005\n",
            "\u001b[34m\u001b[1moptimizer:\u001b[0m SGD with parameter groups 57 weight (no decay), 60 weight, 60 bias\n",
            "\u001b[34m\u001b[1malbumentations: \u001b[0mversion 1.0.3 required by YOLOv5, but version 0.1.12 is currently installed\n",
            "\u001b[34m\u001b[1mtrain: \u001b[0mScanning '/content/UECFOOD100/labels/train' images and labels...339 found, 0 missing, 0 empty, 0 corrupt: 100% 339/339 [00:00<00:00, 585.01it/s]\n",
            "\u001b[34m\u001b[1mtrain: \u001b[0mNew cache created: /content/UECFOOD100/labels/train.cache\n",
            "\u001b[34m\u001b[1mtrain: \u001b[0mCaching images (0.3GB ram): 100% 339/339 [00:03<00:00, 92.03it/s]\n",
            "\u001b[34m\u001b[1mval: \u001b[0mScanning '/content/UECFOOD100/labels/val' images and labels...161 found, 0 missing, 0 empty, 0 corrupt: 100% 161/161 [00:00<00:00, 424.86it/s]\n",
            "\u001b[34m\u001b[1mval: \u001b[0mNew cache created: /content/UECFOOD100/labels/val.cache\n",
            "\u001b[34m\u001b[1mval: \u001b[0mCaching images (0.1GB ram): 100% 161/161 [00:02<00:00, 61.83it/s]\n",
            "Plotting labels to runs/train/exp12/labels.jpg... \n",
            "\n",
            "\u001b[34m\u001b[1mAutoAnchor: \u001b[0m2.00 anchors/target, 1.000 Best Possible Recall (BPR). Current anchors are a good fit to dataset ✅\n",
            "Image sizes 640 train, 640 val\n",
            "Using 2 dataloader workers\n",
            "Logging results to \u001b[1mruns/train/exp12\u001b[0m\n",
            "Starting training for 1 epochs...\n",
            "\n",
            "     Epoch   gpu_mem       box       obj       cls    labels  img_size\n",
            "       0/0        0G   0.04867   0.03194         0         2       640: 100% 170/170 [06:44<00:00,  2.38s/it]\n",
            "               Class     Images     Labels          P          R     mAP@.5 mAP@.5:.95:   0% 0/41 [00:00<?, ?it/s]WARNING: NMS time limit 0.120s exceeded\n",
            "               Class     Images     Labels          P          R     mAP@.5 mAP@.5:.95:   2% 1/41 [00:01<00:51,  1.29s/it]WARNING: NMS time limit 0.120s exceeded\n",
            "               Class     Images     Labels          P          R     mAP@.5 mAP@.5:.95:   5% 2/41 [00:02<00:50,  1.29s/it]WARNING: NMS time limit 0.120s exceeded\n",
            "               Class     Images     Labels          P          R     mAP@.5 mAP@.5:.95:   7% 3/41 [00:03<00:48,  1.28s/it]WARNING: NMS time limit 0.120s exceeded\n",
            "               Class     Images     Labels          P          R     mAP@.5 mAP@.5:.95:  10% 4/41 [00:05<00:47,  1.27s/it]WARNING: NMS time limit 0.120s exceeded\n",
            "               Class     Images     Labels          P          R     mAP@.5 mAP@.5:.95:  12% 5/41 [00:06<00:45,  1.27s/it]WARNING: NMS time limit 0.120s exceeded\n",
            "               Class     Images     Labels          P          R     mAP@.5 mAP@.5:.95:  15% 6/41 [00:07<00:44,  1.27s/it]WARNING: NMS time limit 0.120s exceeded\n",
            "               Class     Images     Labels          P          R     mAP@.5 mAP@.5:.95:  17% 7/41 [00:08<00:43,  1.27s/it]WARNING: NMS time limit 0.120s exceeded\n",
            "               Class     Images     Labels          P          R     mAP@.5 mAP@.5:.95:  20% 8/41 [00:10<00:42,  1.27s/it]WARNING: NMS time limit 0.120s exceeded\n",
            "               Class     Images     Labels          P          R     mAP@.5 mAP@.5:.95:  22% 9/41 [00:11<00:40,  1.28s/it]WARNING: NMS time limit 0.120s exceeded\n",
            "               Class     Images     Labels          P          R     mAP@.5 mAP@.5:.95:  24% 10/41 [00:12<00:39,  1.28s/it]WARNING: NMS time limit 0.120s exceeded\n",
            "               Class     Images     Labels          P          R     mAP@.5 mAP@.5:.95:  27% 11/41 [00:14<00:38,  1.27s/it]WARNING: NMS time limit 0.120s exceeded\n",
            "               Class     Images     Labels          P          R     mAP@.5 mAP@.5:.95:  29% 12/41 [00:15<00:36,  1.27s/it]WARNING: NMS time limit 0.120s exceeded\n",
            "               Class     Images     Labels          P          R     mAP@.5 mAP@.5:.95:  32% 13/41 [00:16<00:35,  1.27s/it]WARNING: NMS time limit 0.120s exceeded\n",
            "               Class     Images     Labels          P          R     mAP@.5 mAP@.5:.95:  34% 14/41 [00:17<00:34,  1.27s/it]WARNING: NMS time limit 0.120s exceeded\n",
            "               Class     Images     Labels          P          R     mAP@.5 mAP@.5:.95:  37% 15/41 [00:19<00:33,  1.27s/it]WARNING: NMS time limit 0.120s exceeded\n",
            "               Class     Images     Labels          P          R     mAP@.5 mAP@.5:.95:  39% 16/41 [00:20<00:31,  1.27s/it]WARNING: NMS time limit 0.120s exceeded\n",
            "               Class     Images     Labels          P          R     mAP@.5 mAP@.5:.95:  41% 17/41 [00:21<00:30,  1.27s/it]WARNING: NMS time limit 0.120s exceeded\n",
            "               Class     Images     Labels          P          R     mAP@.5 mAP@.5:.95:  44% 18/41 [00:22<00:29,  1.28s/it]WARNING: NMS time limit 0.120s exceeded\n",
            "               Class     Images     Labels          P          R     mAP@.5 mAP@.5:.95:  46% 19/41 [00:24<00:28,  1.31s/it]WARNING: NMS time limit 0.120s exceeded\n",
            "               Class     Images     Labels          P          R     mAP@.5 mAP@.5:.95:  49% 20/41 [00:25<00:27,  1.30s/it]WARNING: NMS time limit 0.120s exceeded\n",
            "               Class     Images     Labels          P          R     mAP@.5 mAP@.5:.95:  51% 21/41 [00:26<00:25,  1.29s/it]WARNING: NMS time limit 0.120s exceeded\n",
            "               Class     Images     Labels          P          R     mAP@.5 mAP@.5:.95:  54% 22/41 [00:28<00:24,  1.28s/it]WARNING: NMS time limit 0.120s exceeded\n",
            "               Class     Images     Labels          P          R     mAP@.5 mAP@.5:.95:  56% 23/41 [00:29<00:23,  1.28s/it]WARNING: NMS time limit 0.120s exceeded\n",
            "               Class     Images     Labels          P          R     mAP@.5 mAP@.5:.95:  59% 24/41 [00:30<00:21,  1.27s/it]WARNING: NMS time limit 0.120s exceeded\n",
            "               Class     Images     Labels          P          R     mAP@.5 mAP@.5:.95:  61% 25/41 [00:31<00:20,  1.27s/it]WARNING: NMS time limit 0.120s exceeded\n",
            "               Class     Images     Labels          P          R     mAP@.5 mAP@.5:.95:  63% 26/41 [00:33<00:19,  1.28s/it]WARNING: NMS time limit 0.120s exceeded\n",
            "               Class     Images     Labels          P          R     mAP@.5 mAP@.5:.95:  66% 27/41 [00:34<00:17,  1.28s/it]WARNING: NMS time limit 0.120s exceeded\n",
            "               Class     Images     Labels          P          R     mAP@.5 mAP@.5:.95:  68% 28/41 [00:35<00:16,  1.27s/it]WARNING: NMS time limit 0.120s exceeded\n",
            "               Class     Images     Labels          P          R     mAP@.5 mAP@.5:.95:  71% 29/41 [00:37<00:15,  1.27s/it]WARNING: NMS time limit 0.120s exceeded\n",
            "               Class     Images     Labels          P          R     mAP@.5 mAP@.5:.95:  73% 30/41 [00:38<00:14,  1.27s/it]WARNING: NMS time limit 0.120s exceeded\n",
            "               Class     Images     Labels          P          R     mAP@.5 mAP@.5:.95:  76% 31/41 [00:39<00:12,  1.28s/it]WARNING: NMS time limit 0.120s exceeded\n",
            "               Class     Images     Labels          P          R     mAP@.5 mAP@.5:.95:  78% 32/41 [00:40<00:11,  1.28s/it]WARNING: NMS time limit 0.120s exceeded\n",
            "               Class     Images     Labels          P          R     mAP@.5 mAP@.5:.95:  80% 33/41 [00:42<00:10,  1.28s/it]WARNING: NMS time limit 0.120s exceeded\n",
            "               Class     Images     Labels          P          R     mAP@.5 mAP@.5:.95:  83% 34/41 [00:43<00:08,  1.28s/it]WARNING: NMS time limit 0.120s exceeded\n",
            "               Class     Images     Labels          P          R     mAP@.5 mAP@.5:.95:  85% 35/41 [00:44<00:07,  1.28s/it]WARNING: NMS time limit 0.120s exceeded\n",
            "               Class     Images     Labels          P          R     mAP@.5 mAP@.5:.95:  88% 36/41 [00:45<00:06,  1.27s/it]WARNING: NMS time limit 0.120s exceeded\n",
            "               Class     Images     Labels          P          R     mAP@.5 mAP@.5:.95:  90% 37/41 [00:47<00:05,  1.27s/it]WARNING: NMS time limit 0.120s exceeded\n",
            "               Class     Images     Labels          P          R     mAP@.5 mAP@.5:.95:  93% 38/41 [00:48<00:03,  1.28s/it]WARNING: NMS time limit 0.120s exceeded\n",
            "               Class     Images     Labels          P          R     mAP@.5 mAP@.5:.95:  95% 39/41 [00:49<00:02,  1.27s/it]WARNING: NMS time limit 0.120s exceeded\n",
            "               Class     Images     Labels          P          R     mAP@.5 mAP@.5:.95:  98% 40/41 [00:51<00:01,  1.27s/it]WARNING: NMS time limit 0.030s exceeded\n",
            "               Class     Images     Labels          P          R     mAP@.5 mAP@.5:.95: 100% 41/41 [00:51<00:00,  1.26s/it]\n",
            "                 all        161        161      0.333      0.503      0.169     0.0338\n",
            "\n",
            "1 epochs completed in 0.127 hours.\n",
            "Optimizer stripped from runs/train/exp12/weights/last.pt, 14.4MB\n",
            "Optimizer stripped from runs/train/exp12/weights/best.pt, 14.4MB\n",
            "\n",
            "Validating runs/train/exp12/weights/best.pt...\n",
            "Fusing layers... \n",
            "Model summary: 213 layers, 7012822 parameters, 0 gradients, 15.8 GFLOPs\n",
            "               Class     Images     Labels          P          R     mAP@.5 mAP@.5:.95:   0% 0/41 [00:00<?, ?it/s]WARNING: NMS time limit 0.120s exceeded\n",
            "               Class     Images     Labels          P          R     mAP@.5 mAP@.5:.95:   2% 1/41 [00:01<00:49,  1.25s/it]WARNING: NMS time limit 0.120s exceeded\n",
            "               Class     Images     Labels          P          R     mAP@.5 mAP@.5:.95:   5% 2/41 [00:02<00:50,  1.30s/it]WARNING: NMS time limit 0.120s exceeded\n",
            "               Class     Images     Labels          P          R     mAP@.5 mAP@.5:.95:   7% 3/41 [00:03<00:49,  1.31s/it]WARNING: NMS time limit 0.120s exceeded\n",
            "               Class     Images     Labels          P          R     mAP@.5 mAP@.5:.95:  10% 4/41 [00:05<00:48,  1.31s/it]WARNING: NMS time limit 0.120s exceeded\n",
            "               Class     Images     Labels          P          R     mAP@.5 mAP@.5:.95:  12% 5/41 [00:06<00:45,  1.27s/it]WARNING: NMS time limit 0.120s exceeded\n",
            "               Class     Images     Labels          P          R     mAP@.5 mAP@.5:.95:  15% 6/41 [00:07<00:43,  1.26s/it]WARNING: NMS time limit 0.120s exceeded\n",
            "               Class     Images     Labels          P          R     mAP@.5 mAP@.5:.95:  17% 7/41 [00:08<00:42,  1.24s/it]WARNING: NMS time limit 0.120s exceeded\n",
            "               Class     Images     Labels          P          R     mAP@.5 mAP@.5:.95:  20% 8/41 [00:10<00:40,  1.23s/it]WARNING: NMS time limit 0.120s exceeded\n",
            "               Class     Images     Labels          P          R     mAP@.5 mAP@.5:.95:  22% 9/41 [00:11<00:39,  1.23s/it]WARNING: NMS time limit 0.120s exceeded\n",
            "               Class     Images     Labels          P          R     mAP@.5 mAP@.5:.95:  24% 10/41 [00:12<00:37,  1.23s/it]WARNING: NMS time limit 0.120s exceeded\n",
            "               Class     Images     Labels          P          R     mAP@.5 mAP@.5:.95:  27% 11/41 [00:13<00:36,  1.22s/it]WARNING: NMS time limit 0.120s exceeded\n",
            "               Class     Images     Labels          P          R     mAP@.5 mAP@.5:.95:  29% 12/41 [00:14<00:35,  1.22s/it]WARNING: NMS time limit 0.120s exceeded\n",
            "               Class     Images     Labels          P          R     mAP@.5 mAP@.5:.95:  32% 13/41 [00:16<00:34,  1.22s/it]WARNING: NMS time limit 0.120s exceeded\n",
            "               Class     Images     Labels          P          R     mAP@.5 mAP@.5:.95:  34% 14/41 [00:17<00:32,  1.22s/it]WARNING: NMS time limit 0.120s exceeded\n",
            "               Class     Images     Labels          P          R     mAP@.5 mAP@.5:.95:  37% 15/41 [00:18<00:31,  1.22s/it]WARNING: NMS time limit 0.120s exceeded\n",
            "               Class     Images     Labels          P          R     mAP@.5 mAP@.5:.95:  39% 16/41 [00:19<00:30,  1.22s/it]WARNING: NMS time limit 0.120s exceeded\n",
            "               Class     Images     Labels          P          R     mAP@.5 mAP@.5:.95:  41% 17/41 [00:21<00:29,  1.22s/it]WARNING: NMS time limit 0.120s exceeded\n",
            "               Class     Images     Labels          P          R     mAP@.5 mAP@.5:.95:  44% 18/41 [00:22<00:27,  1.22s/it]WARNING: NMS time limit 0.120s exceeded\n",
            "               Class     Images     Labels          P          R     mAP@.5 mAP@.5:.95:  46% 19/41 [00:23<00:26,  1.22s/it]WARNING: NMS time limit 0.120s exceeded\n",
            "               Class     Images     Labels          P          R     mAP@.5 mAP@.5:.95:  49% 20/41 [00:24<00:25,  1.22s/it]WARNING: NMS time limit 0.120s exceeded\n",
            "               Class     Images     Labels          P          R     mAP@.5 mAP@.5:.95:  51% 21/41 [00:25<00:24,  1.22s/it]WARNING: NMS time limit 0.120s exceeded\n",
            "               Class     Images     Labels          P          R     mAP@.5 mAP@.5:.95:  54% 22/41 [00:27<00:23,  1.21s/it]WARNING: NMS time limit 0.120s exceeded\n",
            "               Class     Images     Labels          P          R     mAP@.5 mAP@.5:.95:  56% 23/41 [00:28<00:21,  1.21s/it]WARNING: NMS time limit 0.120s exceeded\n",
            "               Class     Images     Labels          P          R     mAP@.5 mAP@.5:.95:  59% 24/41 [00:29<00:20,  1.21s/it]WARNING: NMS time limit 0.120s exceeded\n",
            "               Class     Images     Labels          P          R     mAP@.5 mAP@.5:.95:  61% 25/41 [00:30<00:19,  1.21s/it]WARNING: NMS time limit 0.120s exceeded\n",
            "               Class     Images     Labels          P          R     mAP@.5 mAP@.5:.95:  63% 26/41 [00:31<00:18,  1.21s/it]WARNING: NMS time limit 0.120s exceeded\n",
            "               Class     Images     Labels          P          R     mAP@.5 mAP@.5:.95:  66% 27/41 [00:33<00:17,  1.21s/it]WARNING: NMS time limit 0.120s exceeded\n",
            "               Class     Images     Labels          P          R     mAP@.5 mAP@.5:.95:  68% 28/41 [00:34<00:15,  1.21s/it]WARNING: NMS time limit 0.120s exceeded\n",
            "               Class     Images     Labels          P          R     mAP@.5 mAP@.5:.95:  71% 29/41 [00:35<00:14,  1.22s/it]WARNING: NMS time limit 0.120s exceeded\n",
            "               Class     Images     Labels          P          R     mAP@.5 mAP@.5:.95:  73% 30/41 [00:36<00:13,  1.22s/it]WARNING: NMS time limit 0.120s exceeded\n",
            "               Class     Images     Labels          P          R     mAP@.5 mAP@.5:.95:  76% 31/41 [00:38<00:12,  1.22s/it]WARNING: NMS time limit 0.120s exceeded\n",
            "               Class     Images     Labels          P          R     mAP@.5 mAP@.5:.95:  78% 32/41 [00:39<00:10,  1.22s/it]WARNING: NMS time limit 0.120s exceeded\n",
            "               Class     Images     Labels          P          R     mAP@.5 mAP@.5:.95:  80% 33/41 [00:40<00:09,  1.22s/it]WARNING: NMS time limit 0.120s exceeded\n",
            "               Class     Images     Labels          P          R     mAP@.5 mAP@.5:.95:  83% 34/41 [00:41<00:08,  1.22s/it]WARNING: NMS time limit 0.120s exceeded\n",
            "               Class     Images     Labels          P          R     mAP@.5 mAP@.5:.95:  85% 35/41 [00:42<00:07,  1.23s/it]WARNING: NMS time limit 0.120s exceeded\n",
            "               Class     Images     Labels          P          R     mAP@.5 mAP@.5:.95:  88% 36/41 [00:44<00:06,  1.22s/it]WARNING: NMS time limit 0.120s exceeded\n",
            "               Class     Images     Labels          P          R     mAP@.5 mAP@.5:.95:  90% 37/41 [00:45<00:04,  1.22s/it]WARNING: NMS time limit 0.120s exceeded\n",
            "               Class     Images     Labels          P          R     mAP@.5 mAP@.5:.95:  93% 38/41 [00:46<00:03,  1.22s/it]WARNING: NMS time limit 0.120s exceeded\n",
            "               Class     Images     Labels          P          R     mAP@.5 mAP@.5:.95:  95% 39/41 [00:47<00:02,  1.22s/it]WARNING: NMS time limit 0.120s exceeded\n",
            "               Class     Images     Labels          P          R     mAP@.5 mAP@.5:.95:  98% 40/41 [00:49<00:01,  1.23s/it]WARNING: NMS time limit 0.030s exceeded\n",
            "               Class     Images     Labels          P          R     mAP@.5 mAP@.5:.95: 100% 41/41 [00:49<00:00,  1.21s/it]\n",
            "                 all        161        161      0.333      0.503      0.169     0.0338\n",
            "Results saved to \u001b[1mruns/train/exp12\u001b[0m\n"
          ]
        }
      ]
    },
    {
      "cell_type": "code",
      "source": [
        "# detect a custom image\n",
        "!python detect.py --weights /content/yolov5/runs/train/exp12/weights/best.pt --img 640 --conf 0.15 --source /content/test.jpg"
      ],
      "metadata": {
        "id": "FnsQjuPW03oO",
        "outputId": "22cf8385-0b3a-4561-fa28-a5ecbb6a6835",
        "colab": {
          "base_uri": "https://localhost:8080/"
        }
      },
      "execution_count": 54,
      "outputs": [
        {
          "output_type": "stream",
          "name": "stdout",
          "text": [
            "\u001b[34m\u001b[1mdetect: \u001b[0mweights=['/content/yolov5/runs/train/exp12/weights/best.pt'], source=/content/test.jpg, data=data/coco128.yaml, imgsz=[640, 640], conf_thres=0.15, iou_thres=0.45, max_det=1000, device=, view_img=False, save_txt=False, save_conf=False, save_crop=False, nosave=False, classes=None, agnostic_nms=False, augment=False, visualize=False, update=False, project=runs/detect, name=exp, exist_ok=False, line_thickness=3, hide_labels=False, hide_conf=False, half=False, dnn=False\n",
            "YOLOv5 🚀 v6.1-78-gc3d5ac1 torch 1.10.0+cu111 CPU\n",
            "\n",
            "Fusing layers... \n",
            "Model summary: 213 layers, 7012822 parameters, 0 gradients, 15.8 GFLOPs\n",
            "image 1/1 /content/test.jpg: 480x640 1 rice, Done. (0.257s)\n",
            "Speed: 3.2ms pre-process, 256.6ms inference, 0.9ms NMS per image at shape (1, 3, 640, 640)\n",
            "Images saved in \u001b[1mruns/detect/exp11\u001b[0m\n",
            "Food names saved in \u001b[1m../result.txt\u001b[0m\n"
          ]
        }
      ]
    },
    {
      "cell_type": "code",
      "source": [
        "%rm -rf /content/sample_data\n",
        "!unzip -q /content/drive/MyDrive/Data/sample_data.zip -d /content/"
      ],
      "metadata": {
        "id": "Y0XF6Iky0Fqu"
      },
      "execution_count": 32,
      "outputs": []
    },
    {
      "cell_type": "code",
      "source": [
        "import os\n",
        "from os.path import isfile, join\n",
        "from os import listdir\n",
        "\n",
        "directory = '/content/sample_data/'\n",
        "nc = 1\t# number of catagories0/labels/val')\n",
        "\n",
        "def split_files():\n",
        "\tx=1\n",
        "\tfor i in range(1,nc+1):\n",
        "\t\tnew_dir = directory + '1/'\n",
        "\t\tfor f in listdir(new_dir):\n",
        "\t\t\tif isfile(join(new_dir, f)) and f.endswith((\".jpg\")):\n",
        "\t\t\t\tos.rename(new_dir+f , new_dir+str(x)+\".jpg\")\n",
        "\t\t\t\tx += 1\n",
        "split_files()"
      ],
      "metadata": {
        "id": "TTJQh_tys3_Z"
      },
      "execution_count": 33,
      "outputs": []
    },
    {
      "cell_type": "code",
      "source": [
        "# with open('/content/result.txt', 'x') as f:\n",
        "#     f.write('Here is a new text file!')\n",
        "\n",
        "# with open('/content/result.txt', \"w\") as myfile:\n",
        "#     myfile.write(\"newData2\"+\"\\n\")\n",
        "#     myfile.write(\"newData3\"+\"\\n\")"
      ],
      "metadata": {
        "id": "CcPlFLH6_UBN"
      },
      "execution_count": 50,
      "outputs": []
    }
  ],
  "metadata": {
    "colab": {
      "collapsed_sections": [],
      "name": "YOLOv5",
      "provenance": [],
      "include_colab_link": true
    },
    "kernelspec": {
      "display_name": "Python 3",
      "name": "python3"
    }
  },
  "nbformat": 4,
  "nbformat_minor": 0
}